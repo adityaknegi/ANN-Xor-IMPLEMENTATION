{
 "cells": [
  {
   "cell_type": "code",
   "execution_count": 1,
   "metadata": {},
   "outputs": [],
   "source": [
    "import numpy as np\n",
    "import matplotlib.pyplot as plt"
   ]
  },
  {
   "cell_type": "markdown",
   "metadata": {},
   "source": [
    "**ANN Network** \n",
    "                \n",
    "             Forward propagation: \n",
    "             input--2 hidden--10 , output--1\n",
    "\n",
    "| Input  |  ->   | LINEAR |  ->   | RELU |  ->   | LINEAR |  ->   | SIGMOID|\n",
    "|------  |------ |------  |------ |------|------ |------  |------ |------  |\n",
    "| 2      |  ->   | 10     |  ->   | 10   |  ->   | 1      |  ->   | 1      |\n",
    "\n",
    "\n",
    "*Input dimention* : format matrix, Row  are Number of  features and Columns is total number of input \n",
    "\n",
    "*cost function*:: Cross-entropy cost\n",
    "* Network can be apply for any binary  classification  problem \n",
    "\n",
    "* Only two layer are available \n",
    "\n",
    "**parameters**\n",
    "\n",
    "    dict_keys(['W1', 'b1', 'W2', 'b2']), [20, 10, 10, 1]\n",
    "    Total =41 (Trainble parameters)\n",
    "####  After  40000 Iteration Error Is Approx Zero (0.0119) \n",
    "\n",
    "\n",
    "**Output**\n",
    "\n",
    "     [0.00785878 0.9924926  0.99010905 0.01446849]\n",
    "\n",
    "#### After Only 500 Iteration network can classify correctly  100% accuracy\n",
    "\n",
    "**Output**\n",
    "\n",
    "     [0.49999978 0.50000008 0.50000014 0.49999993]\n",
    "\n",
    "\n"
   ]
  },
  {
   "cell_type": "code",
   "execution_count": 33,
   "metadata": {},
   "outputs": [
    {
     "name": "stdout",
     "output_type": "stream",
     "text": [
      "input type <class 'numpy.ndarray'>\n",
      "y_train size : (1, 4)\n",
      "x_train size : (2, 4)\n"
     ]
    }
   ],
   "source": [
    "x_train=np.array([[0.9,0.9],[0.9,0.1],[0.1,0.9],[0.1,0.1],]).T\n",
    "y_train=np.array([0,1,1,0]).reshape(1,-1)\n",
    "layers_dims = (2,10, 1) # input 2 units hideen  10 units one output unit.\n",
    "print(\"input type {}\".format(type(x_train)))\n",
    "print(\"y_train size : {}\".format(y_train.shape))\n",
    "print(\"x_train size : {}\".format(x_train.shape))"
   ]
  },
  {
   "cell_type": "markdown",
   "metadata": {},
   "source": [
    "## Activation Function"
   ]
  },
  {
   "cell_type": "code",
   "execution_count": 20,
   "metadata": {},
   "outputs": [],
   "source": [
    "\n",
    "def sigmoid(Z):\n",
    "    \n",
    "    return 1/(1+np.exp(-Z)), Z\n",
    "\n",
    "def relu(Z):\n",
    "    return np.maximum(0,Z), Z\n",
    "\n",
    "def relu_backward(dA, cache):\n",
    "    Z = cache\n",
    "    dZ = np.array(dA, copy=True) \n",
    "    # When z <= 0, you should set dz to 0 as well. \n",
    "    dZ[cache <= 0] = 0\n",
    "    return dZ\n",
    "\n",
    "def sigmoid_backward(dA, cache):\n",
    "    Z = cache\n",
    "    s = 1/(1+np.exp(-Z))\n",
    "    dZ = dA * s * (1-s)\n",
    "    assert (dZ.shape == Z.shape)\n",
    "    return dZ\n"
   ]
  },
  {
   "cell_type": "markdown",
   "metadata": {},
   "source": [
    "## Parameter Intialize"
   ]
  },
  {
   "cell_type": "code",
   "execution_count": 21,
   "metadata": {},
   "outputs": [],
   "source": [
    "def initialize_parameters_n_layes(layer_dims):\n",
    "    parameters = {}\n",
    "    N = len(layer_dims)            # number of layers in the network\n",
    "    \n",
    "    \n",
    "    # intialized parameters layer by layer\n",
    "    for n in range(1, N):\n",
    "        parameters['W' + str(n)] = np.random.randn(layer_dims[n], layer_dims[n-1]) * 0.001\n",
    "        parameters['b' + str(n)] = np.zeros((layer_dims[n], 1))*0.001\n",
    "        \n",
    "    return parameters"
   ]
  },
  {
   "cell_type": "markdown",
   "metadata": {},
   "source": [
    "# Forward propagation\n",
    "    \"\"\"\n",
    "    Implement the linear part of a layer's forward propagation.\n",
    "    A -- After activations function apply \n",
    "    W -- weights matrix:\n",
    "    b -- bias \n",
    "    \"\"\""
   ]
  },
  {
   "cell_type": "code",
   "execution_count": 22,
   "metadata": {},
   "outputs": [],
   "source": [
    "def linear_forward(A, W, b):\n",
    "    Z = np.dot(W,A)+ b \n",
    "    cache = (A, W, b)\n",
    "    return Z, cache"
   ]
  },
  {
   "cell_type": "code",
   "execution_count": 23,
   "metadata": {},
   "outputs": [],
   "source": [
    "def linear_activation_forward(A_prev, W, b, activation):\n",
    "    if activation == \"sigmoid\":\n",
    "        # Inputs: \"A_prev, W, b\". Outputs: \"A, activation_cache\".\n",
    "        Z, linear_cache = linear_forward(A_prev, W, b)\n",
    "        A, activation_cache = sigmoid(Z)\n",
    "    \n",
    "    elif activation == \"relu\":\n",
    "        # Inputs: \"A_prev, W, b\". Outputs: \"A, activation_cache\".\n",
    "        Z, linear_cache = linear_forward(A_prev, W, b)\n",
    "        A, activation_cache = relu(Z)\n",
    "        \n",
    "    cache = (linear_cache, activation_cache)\n",
    "\n",
    "    return A, cache"
   ]
  },
  {
   "cell_type": "code",
   "execution_count": 24,
   "metadata": {},
   "outputs": [],
   "source": [
    "def two_layer_model(X, Y, layers_dims, learning_rate = 0.0075, num_iterations = 5000):\n",
    "    grads = {}\n",
    "    costs = []                              # to keep track of the cost \n",
    "    m = X.shape[1]                           # number of examples\n",
    "    \n",
    "    # Initialize parameters dictionary\n",
    "    parameters = initialize_parameters_n_layes(layers_dims)\n",
    "    \n",
    "\n",
    "    for i in range(0, num_iterations):\n",
    "\n",
    "        # Forward propagation: LINEAR -> RELU -> LINEAR -> SIGMOID.\n",
    "        A1, cache1 = linear_activation_forward(X, parameters[\"W1\"], parameters[\"b1\"], \"relu\")\n",
    "        A2, cache2 = linear_activation_forward(A1, parameters[\"W2\"], parameters[\"b2\"], \"sigmoid\")\n",
    "       \n",
    "        # Compute cost \n",
    "        cost = compute_cost(A2, Y)\n",
    "        \n",
    "        # Initializing backward propagation\n",
    "        dA2 = - (np.divide(Y, A2) - np.divide(1 - Y, 1 - A2))\n",
    "        \n",
    "        \n",
    "        # Backward propagation. \n",
    "        dA1, dW2, db2 = linear_activation_backward(dA2, cache2, \"sigmoid\")\n",
    "        dA0, dW1, db1 = linear_activation_backward(dA1, cache1, \"relu\")\n",
    "        \n",
    "        # Set grads['dWl'] to dW1, grads['db1'] to db1, grads['dW2'] to dW2, grads['db2'] to db2\n",
    "        grads['dW1'],grads['db1'],grads['dW2'],grads['db2']  = dW1, db1, dW2, db2\n",
    "        \n",
    "        # Update parameters W1, b1, W2, b2\n",
    "        parameters = update_parameters(parameters, grads, learning_rate)\n",
    "\n",
    "    \n",
    "        # Print the cost \n",
    "        step=2000 # store after step iterations\n",
    "        if i % step == 0:\n",
    "            print(\"Cost after iteration {}: {}\".format(i, np.squeeze(cost)))\n",
    "        if i % step == 0:\n",
    "            costs.append(cost)\n",
    "       \n",
    "    # plot the cost\n",
    "\n",
    "    plt.plot(np.squeeze(costs))\n",
    "    plt.ylabel('cost')\n",
    "    plt.xlabel('iterations ({})'.format(step))\n",
    "    plt.title(\"Learning rate =\" + str(learning_rate))\n",
    "    plt.show()\n",
    "    # return updated paramenters\n",
    "    return parameters"
   ]
  },
  {
   "cell_type": "markdown",
   "metadata": {},
   "source": [
    "## Cost function"
   ]
  },
  {
   "cell_type": "markdown",
   "metadata": {},
   "source": [
    "    Arguments:\n",
    "    AL -- probability \n",
    "    Y -- true \"label\" \n",
    "    cost -- cross-entropy cost\n",
    "\"\"\""
   ]
  },
  {
   "cell_type": "code",
   "execution_count": 25,
   "metadata": {},
   "outputs": [],
   "source": [
    "def compute_cost(AL, Y):\n",
    "    m = Y.shape[1]\n",
    "\n",
    "    # Compute loss from aL and y.\n",
    "    cost = -1/m * np.sum(np.multiply(np.log(AL), Y) + np.multiply(1 - Y, np.log(1 - AL)))\n",
    "    \n",
    "    cost = np.squeeze(cost)\n",
    "    \n",
    "    return cost"
   ]
  },
  {
   "cell_type": "markdown",
   "metadata": {},
   "source": [
    "## backward propagation"
   ]
  },
  {
   "cell_type": "code",
   "execution_count": 26,
   "metadata": {},
   "outputs": [],
   "source": [
    "def linear_backward(dZ, cache):\n",
    "\n",
    "    A_prev, W, b = cache\n",
    "    m = A_prev.shape[1]\n",
    "\n",
    "    dW =  1/m * np.dot(dZ, A_prev.T)\n",
    "    db = 1/m * np.sum(dZ,axis = 1,keepdims = True )\n",
    "    dA_prev = np.dot(W.T,dZ)\n",
    "    \"\"\"\n",
    "    Arguments:\n",
    "    dZ -- Gradient with respect to ;\n",
    "    cache -- tuple of values (A_prev, W, b) from forward propagation\n",
    "    Returns:\n",
    "    dA_prev -- Gradient of the cost with prev layer\n",
    "    dW -- db  Gradient\n",
    "    \"\"\"\n",
    "    return dA_prev, dW, db"
   ]
  },
  {
   "cell_type": "code",
   "execution_count": 27,
   "metadata": {},
   "outputs": [],
   "source": [
    "def linear_activation_backward(dA, cache, activation):\n",
    "\n",
    "    linear_cache, activation_cache = cache\n",
    "    \n",
    "    if activation == \"relu\":\n",
    "        dZ = relu_backward(dA, activation_cache)\n",
    "        dA_prev, dW, db = linear_backward(dZ, linear_cache)\n",
    "        \n",
    "    elif activation == \"sigmoid\":\n",
    "        dZ = sigmoid_backward(dA, activation_cache)\n",
    "        dA_prev, dW, db = linear_backward(dZ, linear_cache)\n",
    "    #Gradient with respect to prev and Gradient\n",
    "    return dA_prev, dW, db"
   ]
  },
  {
   "cell_type": "code",
   "execution_count": 28,
   "metadata": {},
   "outputs": [],
   "source": [
    "def update_parameters(parameters, grads, learning_rate):\n",
    "    \n",
    "    N = len(parameters) // 2 # number of layers in the neural network\n",
    "\n",
    "    # Update prameters W1,W2,b1,b2\n",
    "    for n in range(N):\n",
    "        parameters[\"W\" + str(n+1)] = parameters[\"W\" + str(n+1)] - learning_rate * grads[\"dW\" + str(n+1)]\n",
    "        parameters[\"b\" + str(n+1)] = parameters[\"b\" + str(n+1)] - learning_rate * grads[\"db\" + str(n+1)]\n",
    "    return parameters"
   ]
  },
  {
   "cell_type": "code",
   "execution_count": 29,
   "metadata": {},
   "outputs": [
    {
     "name": "stdout",
     "output_type": "stream",
     "text": [
      "Cost after iteration 0: 0.6931472586503031\n",
      "Cost after iteration 2000: 0.08488040170255441\n",
      "Cost after iteration 4000: 0.043621619253829416\n",
      "Cost after iteration 6000: 0.028393621517264545\n",
      "Cost after iteration 8000: 0.020795304140719912\n",
      "Cost after iteration 10000: 0.01631664160580837\n",
      "Cost after iteration 12000: 0.013398757810594113\n",
      "Cost after iteration 14000: 0.0113277506818646\n",
      "Cost after iteration 16000: 0.009804402003373798\n",
      "Cost after iteration 18000: 0.00863793300464562\n",
      "Cost after iteration 20000: 0.007716851584346558\n",
      "Cost after iteration 22000: 0.006971630803673124\n",
      "Cost after iteration 24000: 0.0063566453700167865\n",
      "Cost after iteration 26000: 0.0058369756719609004\n",
      "Cost after iteration 28000: 0.005395697278953169\n",
      "Cost after iteration 30000: 0.005015713871905336\n",
      "Cost after iteration 32000: 0.004685747739290655\n",
      "Cost after iteration 34000: 0.004394208190113125\n",
      "Cost after iteration 36000: 0.004138257066356378\n",
      "Cost after iteration 38000: 0.003910576233381333\n"
     ]
    },
    {
     "data": {
      "image/png": "[encoded data removed]",
      "text/plain": [
       "<Figure size 432x288 with 1 Axes>"
      ]
     },
     "metadata": {
      "needs_background": "light"
     },
     "output_type": "display_data"
    }
   ],
   "source": [
    "parameters = two_layer_model(x_train,y_train,\n",
    "                             layers_dims = layers_dims,\n",
    "                             num_iterations = 40000)"
   ]
  },
  {
   "cell_type": "code",
   "execution_count": 30,
   "metadata": {},
   "outputs": [],
   "source": [
    "def predict(X, y, parameters,layers_dims):\n",
    "    m = X.shape[1] # number of inputes\n",
    "    predictions = np.zeros((1,m)) # class\n",
    "    \n",
    "    # Forward propagation\n",
    "    A1, cache1 = linear_activation_forward(X, parameters['W1'], parameters['b1'], \"relu\")\n",
    "    A2, cache2 = linear_activation_forward(A1, parameters['W2'], parameters['b2'], \"sigmoid\")\n",
    "    print(A2)\n",
    "    \n",
    "    for i in range(A2.shape[1]):\n",
    "        if A2[:,i]>0.5:\n",
    "            predictions[:,i]=1\n",
    "        else:\n",
    "            predictions[:,i]=0\n",
    "    \n",
    "    print(\"Accuracy: \"  + str(np.sum((predictions == y)/m)))\n",
    "        \n",
    "    return predictions\n",
    "\n"
   ]
  },
  {
   "cell_type": "code",
   "execution_count": 31,
   "metadata": {},
   "outputs": [
    {
     "name": "stdout",
     "output_type": "stream",
     "text": [
      "[[2.58033964e-45 9.85648125e-01 9.99979495e-01 3.43721225e-04]]\n",
      "Accuracy: 1.0\n"
     ]
    },
    {
     "data": {
      "text/plain": [
       "array([[0., 1., 1., 0.]])"
      ]
     },
     "execution_count": 31,
     "metadata": {},
     "output_type": "execute_result"
    }
   ],
   "source": [
    "predict(x_train, y_train,parameters,layers_dims)"
   ]
  },
  {
   "cell_type": "code",
   "execution_count": 32,
   "metadata": {},
   "outputs": [
    {
     "data": {
      "text/plain": [
       "(dict_keys(['W1', 'b1', 'W2', 'b2']), [20, 10, 10, 1])"
      ]
     },
     "execution_count": 32,
     "metadata": {},
     "output_type": "execute_result"
    }
   ],
   "source": [
    "parameters.keys(), [parameters[x].shape[0]*parameters[x].shape[1] for x in parameters.keys()]"
   ]
  },
  {
   "cell_type": "code",
   "execution_count": null,
   "metadata": {},
   "outputs": [],
   "source": []
  },
  {
   "cell_type": "code",
   "execution_count": null,
   "metadata": {},
   "outputs": [],
   "source": []
  }
 ],
 "metadata": {
  "kernelspec": {
   "display_name": "Python 3",
   "language": "python",
   "name": "python3"
  },
  "language_info": {
   "codemirror_mode": {
    "name": "ipython",
    "version": 3
   },
   "file_extension": ".py",
   "mimetype": "text/x-python",
   "name": "python",
   "nbconvert_exporter": "python",
   "pygments_lexer": "ipython3",
   "version": "3.7.3"
  }
 },
 "nbformat": 4,
 "nbformat_minor": 2
}
